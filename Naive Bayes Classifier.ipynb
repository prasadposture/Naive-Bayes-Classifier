{
 "cells": [
  {
   "cell_type": "markdown",
   "id": "3e59c105",
   "metadata": {
    "papermill": {
     "duration": 0.006968,
     "end_time": "2022-08-07T14:43:42.764918",
     "exception": false,
     "start_time": "2022-08-07T14:43:42.757950",
     "status": "completed"
    },
    "tags": []
   },
   "source": [
    "### Prasad Rajesh Posture  \n",
    "**Batch**: June 2022  \n",
    "Data Analytics with Python  "
   ]
  },
  {
   "cell_type": "markdown",
   "id": "f41088a7",
   "metadata": {
    "papermill": {
     "duration": 0.004784,
     "end_time": "2022-08-07T14:43:42.775114",
     "exception": false,
     "start_time": "2022-08-07T14:43:42.770330",
     "status": "completed"
    },
    "tags": []
   },
   "source": [
    "**Task :** Create a model using Naive Bayes Classifier to predict whether the Tennis Match wil happen or not based on the weather conditions."
   ]
  },
  {
   "cell_type": "markdown",
   "id": "c2a02cfd",
   "metadata": {
    "papermill": {
     "duration": 0.00467,
     "end_time": "2022-08-07T14:43:42.784879",
     "exception": false,
     "start_time": "2022-08-07T14:43:42.780209",
     "status": "completed"
    },
    "tags": []
   },
   "source": [
    "### `import` Packages"
   ]
  },
  {
   "cell_type": "code",
   "execution_count": 1,
   "id": "a2fe1a2a",
   "metadata": {
    "execution": {
     "iopub.execute_input": "2022-08-07T14:43:42.797435Z",
     "iopub.status.busy": "2022-08-07T14:43:42.796585Z",
     "iopub.status.idle": "2022-08-07T14:43:42.808199Z",
     "shell.execute_reply": "2022-08-07T14:43:42.807149Z"
    },
    "papermill": {
     "duration": 0.020877,
     "end_time": "2022-08-07T14:43:42.810801",
     "exception": false,
     "start_time": "2022-08-07T14:43:42.789924",
     "status": "completed"
    },
    "tags": []
   },
   "outputs": [],
   "source": [
    "import pandas as pd\n",
    "import numpy as np"
   ]
  },
  {
   "cell_type": "markdown",
   "id": "f9e1a0af",
   "metadata": {
    "papermill": {
     "duration": 0.005163,
     "end_time": "2022-08-07T14:43:42.821230",
     "exception": false,
     "start_time": "2022-08-07T14:43:42.816067",
     "status": "completed"
    },
    "tags": []
   },
   "source": [
    "### Loading Dataset \n",
    "Data source : http://www.shatterline.com/MachineLearning/data/tennis_anyone.csv"
   ]
  },
  {
   "cell_type": "code",
   "execution_count": 2,
   "id": "7fbb879e",
   "metadata": {
    "execution": {
     "iopub.execute_input": "2022-08-07T14:43:42.833607Z",
     "iopub.status.busy": "2022-08-07T14:43:42.833201Z",
     "iopub.status.idle": "2022-08-07T14:43:43.473448Z",
     "shell.execute_reply": "2022-08-07T14:43:43.472015Z"
    },
    "papermill": {
     "duration": 0.649936,
     "end_time": "2022-08-07T14:43:43.476310",
     "exception": false,
     "start_time": "2022-08-07T14:43:42.826374",
     "status": "completed"
    },
    "tags": []
   },
   "outputs": [],
   "source": [
    "data_source = 'http://www.shatterline.com/MachineLearning/data/tennis_anyone.csv'\n",
    "df = pd.read_csv(data_source)\n",
    "df.columns = ['outlook', 'temp', 'humidity', 'wind', 'class']"
   ]
  },
  {
   "cell_type": "code",
   "execution_count": 3,
   "id": "df35910c",
   "metadata": {
    "execution": {
     "iopub.execute_input": "2022-08-07T14:43:43.490575Z",
     "iopub.status.busy": "2022-08-07T14:43:43.490154Z",
     "iopub.status.idle": "2022-08-07T14:43:43.513139Z",
     "shell.execute_reply": "2022-08-07T14:43:43.512113Z"
    },
    "papermill": {
     "duration": 0.032108,
     "end_time": "2022-08-07T14:43:43.515424",
     "exception": false,
     "start_time": "2022-08-07T14:43:43.483316",
     "status": "completed"
    },
    "tags": []
   },
   "outputs": [
    {
     "data": {
      "text/html": [
       "<div>\n",
       "<style scoped>\n",
       "    .dataframe tbody tr th:only-of-type {\n",
       "        vertical-align: middle;\n",
       "    }\n",
       "\n",
       "    .dataframe tbody tr th {\n",
       "        vertical-align: top;\n",
       "    }\n",
       "\n",
       "    .dataframe thead th {\n",
       "        text-align: right;\n",
       "    }\n",
       "</style>\n",
       "<table border=\"1\" class=\"dataframe\">\n",
       "  <thead>\n",
       "    <tr style=\"text-align: right;\">\n",
       "      <th></th>\n",
       "      <th>outlook</th>\n",
       "      <th>temp</th>\n",
       "      <th>humidity</th>\n",
       "      <th>wind</th>\n",
       "      <th>class</th>\n",
       "    </tr>\n",
       "  </thead>\n",
       "  <tbody>\n",
       "    <tr>\n",
       "      <th>0</th>\n",
       "      <td>Sunny</td>\n",
       "      <td>Hot</td>\n",
       "      <td>High</td>\n",
       "      <td>Weak</td>\n",
       "      <td>No</td>\n",
       "    </tr>\n",
       "    <tr>\n",
       "      <th>1</th>\n",
       "      <td>Sunny</td>\n",
       "      <td>Hot</td>\n",
       "      <td>High</td>\n",
       "      <td>Strong</td>\n",
       "      <td>No</td>\n",
       "    </tr>\n",
       "    <tr>\n",
       "      <th>2</th>\n",
       "      <td>Overcast</td>\n",
       "      <td>Hot</td>\n",
       "      <td>High</td>\n",
       "      <td>Weak</td>\n",
       "      <td>Yes</td>\n",
       "    </tr>\n",
       "    <tr>\n",
       "      <th>3</th>\n",
       "      <td>Rain</td>\n",
       "      <td>Mild</td>\n",
       "      <td>High</td>\n",
       "      <td>Weak</td>\n",
       "      <td>Yes</td>\n",
       "    </tr>\n",
       "    <tr>\n",
       "      <th>4</th>\n",
       "      <td>Rain</td>\n",
       "      <td>Cool</td>\n",
       "      <td>Normal</td>\n",
       "      <td>Weak</td>\n",
       "      <td>Yes</td>\n",
       "    </tr>\n",
       "  </tbody>\n",
       "</table>\n",
       "</div>"
      ],
      "text/plain": [
       "    outlook  temp humidity    wind class\n",
       "0     Sunny   Hot     High    Weak    No\n",
       "1     Sunny   Hot     High  Strong    No\n",
       "2  Overcast   Hot     High    Weak   Yes\n",
       "3      Rain  Mild     High    Weak   Yes\n",
       "4      Rain  Cool   Normal    Weak   Yes"
      ]
     },
     "execution_count": 3,
     "metadata": {},
     "output_type": "execute_result"
    }
   ],
   "source": [
    "df.head()"
   ]
  },
  {
   "cell_type": "markdown",
   "id": "835c67f2",
   "metadata": {
    "papermill": {
     "duration": 0.005461,
     "end_time": "2022-08-07T14:43:43.527288",
     "exception": false,
     "start_time": "2022-08-07T14:43:43.521827",
     "status": "completed"
    },
    "tags": []
   },
   "source": [
    "### Features and Target"
   ]
  },
  {
   "cell_type": "code",
   "execution_count": 4,
   "id": "87f2cfde",
   "metadata": {
    "execution": {
     "iopub.execute_input": "2022-08-07T14:43:43.541144Z",
     "iopub.status.busy": "2022-08-07T14:43:43.540220Z",
     "iopub.status.idle": "2022-08-07T14:43:43.553535Z",
     "shell.execute_reply": "2022-08-07T14:43:43.552258Z"
    },
    "papermill": {
     "duration": 0.023475,
     "end_time": "2022-08-07T14:43:43.556389",
     "exception": false,
     "start_time": "2022-08-07T14:43:43.532914",
     "status": "completed"
    },
    "tags": []
   },
   "outputs": [],
   "source": [
    "y = df['class']\n",
    "X = df.drop(columns=['class'], axis=1)"
   ]
  },
  {
   "cell_type": "code",
   "execution_count": 5,
   "id": "2a46f772",
   "metadata": {
    "execution": {
     "iopub.execute_input": "2022-08-07T14:43:43.569686Z",
     "iopub.status.busy": "2022-08-07T14:43:43.569264Z",
     "iopub.status.idle": "2022-08-07T14:43:43.582283Z",
     "shell.execute_reply": "2022-08-07T14:43:43.580977Z"
    },
    "papermill": {
     "duration": 0.022823,
     "end_time": "2022-08-07T14:43:43.584721",
     "exception": false,
     "start_time": "2022-08-07T14:43:43.561898",
     "status": "completed"
    },
    "tags": []
   },
   "outputs": [
    {
     "data": {
      "text/html": [
       "<div>\n",
       "<style scoped>\n",
       "    .dataframe tbody tr th:only-of-type {\n",
       "        vertical-align: middle;\n",
       "    }\n",
       "\n",
       "    .dataframe tbody tr th {\n",
       "        vertical-align: top;\n",
       "    }\n",
       "\n",
       "    .dataframe thead th {\n",
       "        text-align: right;\n",
       "    }\n",
       "</style>\n",
       "<table border=\"1\" class=\"dataframe\">\n",
       "  <thead>\n",
       "    <tr style=\"text-align: right;\">\n",
       "      <th></th>\n",
       "      <th>outlook</th>\n",
       "      <th>temp</th>\n",
       "      <th>humidity</th>\n",
       "      <th>wind</th>\n",
       "    </tr>\n",
       "  </thead>\n",
       "  <tbody>\n",
       "    <tr>\n",
       "      <th>0</th>\n",
       "      <td>Sunny</td>\n",
       "      <td>Hot</td>\n",
       "      <td>High</td>\n",
       "      <td>Weak</td>\n",
       "    </tr>\n",
       "    <tr>\n",
       "      <th>1</th>\n",
       "      <td>Sunny</td>\n",
       "      <td>Hot</td>\n",
       "      <td>High</td>\n",
       "      <td>Strong</td>\n",
       "    </tr>\n",
       "    <tr>\n",
       "      <th>2</th>\n",
       "      <td>Overcast</td>\n",
       "      <td>Hot</td>\n",
       "      <td>High</td>\n",
       "      <td>Weak</td>\n",
       "    </tr>\n",
       "    <tr>\n",
       "      <th>3</th>\n",
       "      <td>Rain</td>\n",
       "      <td>Mild</td>\n",
       "      <td>High</td>\n",
       "      <td>Weak</td>\n",
       "    </tr>\n",
       "    <tr>\n",
       "      <th>4</th>\n",
       "      <td>Rain</td>\n",
       "      <td>Cool</td>\n",
       "      <td>Normal</td>\n",
       "      <td>Weak</td>\n",
       "    </tr>\n",
       "  </tbody>\n",
       "</table>\n",
       "</div>"
      ],
      "text/plain": [
       "    outlook  temp humidity    wind\n",
       "0     Sunny   Hot     High    Weak\n",
       "1     Sunny   Hot     High  Strong\n",
       "2  Overcast   Hot     High    Weak\n",
       "3      Rain  Mild     High    Weak\n",
       "4      Rain  Cool   Normal    Weak"
      ]
     },
     "execution_count": 5,
     "metadata": {},
     "output_type": "execute_result"
    }
   ],
   "source": [
    "X.head()"
   ]
  },
  {
   "cell_type": "code",
   "execution_count": 6,
   "id": "d7e19c75",
   "metadata": {
    "execution": {
     "iopub.execute_input": "2022-08-07T14:43:43.598116Z",
     "iopub.status.busy": "2022-08-07T14:43:43.597689Z",
     "iopub.status.idle": "2022-08-07T14:43:43.606006Z",
     "shell.execute_reply": "2022-08-07T14:43:43.604851Z"
    },
    "papermill": {
     "duration": 0.017766,
     "end_time": "2022-08-07T14:43:43.608369",
     "exception": false,
     "start_time": "2022-08-07T14:43:43.590603",
     "status": "completed"
    },
    "tags": []
   },
   "outputs": [
    {
     "data": {
      "text/plain": [
       "0     No\n",
       "1     No\n",
       "2    Yes\n",
       "3    Yes\n",
       "4    Yes\n",
       "Name: class, dtype: object"
      ]
     },
     "execution_count": 6,
     "metadata": {},
     "output_type": "execute_result"
    }
   ],
   "source": [
    "y.head()"
   ]
  },
  {
   "cell_type": "code",
   "execution_count": 7,
   "id": "7bd92f8b",
   "metadata": {
    "execution": {
     "iopub.execute_input": "2022-08-07T14:43:43.622467Z",
     "iopub.status.busy": "2022-08-07T14:43:43.621611Z",
     "iopub.status.idle": "2022-08-07T14:43:43.631947Z",
     "shell.execute_reply": "2022-08-07T14:43:43.630737Z"
    },
    "papermill": {
     "duration": 0.019907,
     "end_time": "2022-08-07T14:43:43.634191",
     "exception": false,
     "start_time": "2022-08-07T14:43:43.614284",
     "status": "completed"
    },
    "tags": []
   },
   "outputs": [
    {
     "data": {
      "text/plain": [
       "Yes    9\n",
       "No     5\n",
       "Name: class, dtype: int64"
      ]
     },
     "execution_count": 7,
     "metadata": {},
     "output_type": "execute_result"
    }
   ],
   "source": [
    "y.value_counts()"
   ]
  },
  {
   "cell_type": "markdown",
   "id": "e2f1cfa4",
   "metadata": {
    "papermill": {
     "duration": 0.005644,
     "end_time": "2022-08-07T14:43:43.645940",
     "exception": false,
     "start_time": "2022-08-07T14:43:43.640296",
     "status": "completed"
    },
    "tags": []
   },
   "source": [
    "### Likelihood"
   ]
  },
  {
   "cell_type": "code",
   "execution_count": 8,
   "id": "1aad949c",
   "metadata": {
    "execution": {
     "iopub.execute_input": "2022-08-07T14:43:43.659720Z",
     "iopub.status.busy": "2022-08-07T14:43:43.659326Z",
     "iopub.status.idle": "2022-08-07T14:43:43.667528Z",
     "shell.execute_reply": "2022-08-07T14:43:43.666335Z"
    },
    "papermill": {
     "duration": 0.018061,
     "end_time": "2022-08-07T14:43:43.669967",
     "exception": false,
     "start_time": "2022-08-07T14:43:43.651906",
     "status": "completed"
    },
    "tags": []
   },
   "outputs": [],
   "source": [
    "def feature_probability(X_features, y_target, f, yt_kv):\n",
    "    ddf = pd.DataFrame({f : X_features[f].values, 'class' : y_target.values})\n",
    "    xf = X_features[f]\n",
    "    xf_c = xf.value_counts().to_frame().index.to_list()\n",
    "    \n",
    "    each_x = {}\n",
    "    for xi in xf_c:\n",
    "        df_x = ddf[ddf[f] == xi]\n",
    "        each_xy = {}\n",
    "        for yi in list(yt_kv.keys()):\n",
    "            df_xy = df_x[df_x['class'] == yi]\n",
    "            each_xy[yi] = len(df_xy) / yt_kv[yi]\n",
    "        each_x[xi] = each_xy\n",
    "        \n",
    "    return each_x"
   ]
  },
  {
   "cell_type": "code",
   "execution_count": 9,
   "id": "bd07934c",
   "metadata": {
    "execution": {
     "iopub.execute_input": "2022-08-07T14:43:43.684978Z",
     "iopub.status.busy": "2022-08-07T14:43:43.684529Z",
     "iopub.status.idle": "2022-08-07T14:43:43.700260Z",
     "shell.execute_reply": "2022-08-07T14:43:43.699117Z"
    },
    "papermill": {
     "duration": 0.025701,
     "end_time": "2022-08-07T14:43:43.702673",
     "exception": false,
     "start_time": "2022-08-07T14:43:43.676972",
     "status": "completed"
    },
    "tags": []
   },
   "outputs": [
    {
     "data": {
      "text/plain": [
       "{'Sunny': {'Yes': 0.2222222222222222, 'No': 0.6},\n",
       " 'Rain': {'Yes': 0.3333333333333333, 'No': 0.4},\n",
       " 'Overcast': {'Yes': 0.4444444444444444, 'No': 0.0}}"
      ]
     },
     "execution_count": 9,
     "metadata": {},
     "output_type": "execute_result"
    }
   ],
   "source": [
    "yt_kv = {'Yes': 9, 'No': 5}\n",
    "feature_probability(X_features=X, y_target=y, f='outlook', yt_kv=yt_kv)"
   ]
  },
  {
   "cell_type": "code",
   "execution_count": 10,
   "id": "606fde4a",
   "metadata": {
    "execution": {
     "iopub.execute_input": "2022-08-07T14:43:43.717195Z",
     "iopub.status.busy": "2022-08-07T14:43:43.716716Z",
     "iopub.status.idle": "2022-08-07T14:43:43.730596Z",
     "shell.execute_reply": "2022-08-07T14:43:43.729245Z"
    },
    "papermill": {
     "duration": 0.024183,
     "end_time": "2022-08-07T14:43:43.733108",
     "exception": false,
     "start_time": "2022-08-07T14:43:43.708925",
     "status": "completed"
    },
    "tags": []
   },
   "outputs": [],
   "source": [
    "def compute_likelihood(X_features, y_target):\n",
    "    yt = y_target.value_counts().to_frame()\n",
    "    yt_k = yt.index.to_list()\n",
    "    yt_v = yt.values[:, 0]\n",
    "    yt_kv = {i : j for (i, j) in zip(yt_k, yt_v)}\n",
    "    \n",
    "    X_likelihood = {}\n",
    "    for col in X_features:\n",
    "        X_likelihood[col] = feature_probability(\n",
    "            X_features=X_features, \n",
    "            y_target=y_target, \n",
    "            f=col, \n",
    "            yt_kv=yt_kv\n",
    "        )\n",
    "    y_likelihood = {i : j / np.sum(yt.values[:, 0]) for (i, j) in yt_kv.items()}\n",
    "    \n",
    "    return X_likelihood, y_likelihood"
   ]
  },
  {
   "cell_type": "code",
   "execution_count": 11,
   "id": "d147e22e",
   "metadata": {
    "execution": {
     "iopub.execute_input": "2022-08-07T14:43:43.747756Z",
     "iopub.status.busy": "2022-08-07T14:43:43.747342Z",
     "iopub.status.idle": "2022-08-07T14:43:43.773099Z",
     "shell.execute_reply": "2022-08-07T14:43:43.772122Z"
    },
    "papermill": {
     "duration": 0.035949,
     "end_time": "2022-08-07T14:43:43.775544",
     "exception": false,
     "start_time": "2022-08-07T14:43:43.739595",
     "status": "completed"
    },
    "tags": []
   },
   "outputs": [],
   "source": [
    "X_l, y_l = compute_likelihood(X_features=X, y_target=y)"
   ]
  },
  {
   "cell_type": "code",
   "execution_count": 12,
   "id": "065fc606",
   "metadata": {
    "execution": {
     "iopub.execute_input": "2022-08-07T14:43:43.790549Z",
     "iopub.status.busy": "2022-08-07T14:43:43.790104Z",
     "iopub.status.idle": "2022-08-07T14:43:43.798938Z",
     "shell.execute_reply": "2022-08-07T14:43:43.797730Z"
    },
    "papermill": {
     "duration": 0.019458,
     "end_time": "2022-08-07T14:43:43.801323",
     "exception": false,
     "start_time": "2022-08-07T14:43:43.781865",
     "status": "completed"
    },
    "tags": []
   },
   "outputs": [
    {
     "data": {
      "text/plain": [
       "{'outlook': {'Sunny': {'Yes': 0.2222222222222222, 'No': 0.6},\n",
       "  'Rain': {'Yes': 0.3333333333333333, 'No': 0.4},\n",
       "  'Overcast': {'Yes': 0.4444444444444444, 'No': 0.0}},\n",
       " 'temp': {'Mild': {'Yes': 0.4444444444444444, 'No': 0.4},\n",
       "  'Hot': {'Yes': 0.2222222222222222, 'No': 0.4},\n",
       "  'Cool': {'Yes': 0.3333333333333333, 'No': 0.2}},\n",
       " 'humidity': {'High': {'Yes': 0.3333333333333333, 'No': 0.8},\n",
       "  'Normal': {'Yes': 0.6666666666666666, 'No': 0.2}},\n",
       " 'wind': {'Weak': {'Yes': 0.6666666666666666, 'No': 0.4},\n",
       "  'Strong': {'Yes': 0.3333333333333333, 'No': 0.6}}}"
      ]
     },
     "execution_count": 12,
     "metadata": {},
     "output_type": "execute_result"
    }
   ],
   "source": [
    "X_l"
   ]
  },
  {
   "cell_type": "code",
   "execution_count": 13,
   "id": "7acfa630",
   "metadata": {
    "execution": {
     "iopub.execute_input": "2022-08-07T14:43:43.816128Z",
     "iopub.status.busy": "2022-08-07T14:43:43.815730Z",
     "iopub.status.idle": "2022-08-07T14:43:43.822484Z",
     "shell.execute_reply": "2022-08-07T14:43:43.821312Z"
    },
    "papermill": {
     "duration": 0.017058,
     "end_time": "2022-08-07T14:43:43.824828",
     "exception": false,
     "start_time": "2022-08-07T14:43:43.807770",
     "status": "completed"
    },
    "tags": []
   },
   "outputs": [
    {
     "data": {
      "text/plain": [
       "{'Yes': 0.6428571428571429, 'No': 0.35714285714285715}"
      ]
     },
     "execution_count": 13,
     "metadata": {},
     "output_type": "execute_result"
    }
   ],
   "source": [
    "y_l"
   ]
  },
  {
   "cell_type": "markdown",
   "id": "1239a847",
   "metadata": {
    "papermill": {
     "duration": 0.006346,
     "end_time": "2022-08-07T14:43:43.837941",
     "exception": false,
     "start_time": "2022-08-07T14:43:43.831595",
     "status": "completed"
    },
    "tags": []
   },
   "source": [
    "### Prediction"
   ]
  },
  {
   "cell_type": "code",
   "execution_count": 14,
   "id": "1ffa2d99",
   "metadata": {
    "execution": {
     "iopub.execute_input": "2022-08-07T14:43:43.852631Z",
     "iopub.status.busy": "2022-08-07T14:43:43.852214Z",
     "iopub.status.idle": "2022-08-07T14:43:43.860326Z",
     "shell.execute_reply": "2022-08-07T14:43:43.858939Z"
    },
    "papermill": {
     "duration": 0.019161,
     "end_time": "2022-08-07T14:43:43.863609",
     "exception": false,
     "start_time": "2022-08-07T14:43:43.844448",
     "status": "completed"
    },
    "tags": []
   },
   "outputs": [
    {
     "name": "stdout",
     "output_type": "stream",
     "text": [
      "p1 1\n",
      "p2 3\n"
     ]
    }
   ],
   "source": [
    "# case - 1\n",
    "p1 = [['Sunny', 'Cool', 'High', 'Strong']]\n",
    "\n",
    "# case - 2\n",
    "p2 = [['Sunny', 'Mild', 'Normal', 'Weak'], \n",
    "      ['Sunny', 'Mild', 'High', 'Weak'],\n",
    "      ['Rain', 'Cool', 'Normal', 'Strong']]\n",
    "\n",
    "print('p1', len(p1))\n",
    "print('p2', len(p2))"
   ]
  },
  {
   "cell_type": "code",
   "execution_count": 15,
   "id": "1ff38b2d",
   "metadata": {
    "execution": {
     "iopub.execute_input": "2022-08-07T14:43:43.880070Z",
     "iopub.status.busy": "2022-08-07T14:43:43.879650Z",
     "iopub.status.idle": "2022-08-07T14:43:43.889976Z",
     "shell.execute_reply": "2022-08-07T14:43:43.888336Z"
    },
    "papermill": {
     "duration": 0.021316,
     "end_time": "2022-08-07T14:43:43.892599",
     "exception": false,
     "start_time": "2022-08-07T14:43:43.871283",
     "status": "completed"
    },
    "tags": []
   },
   "outputs": [],
   "source": [
    "def predictor(X_new, X_l, y_l):\n",
    "    cols = list(X_l.keys())\n",
    "    col_val = {i : j for (i, j) in zip(cols, X_new)}\n",
    "\n",
    "    lprobs = {}\n",
    "    for l, v in y_l.items():\n",
    "        cate_v = [X_l[cn][cl][l] for (cn, cl) in col_val.items()]\n",
    "        lprobs[l] = round((np.prod(cate_v) * v), 4)\n",
    "\n",
    "    prob_ks = list(lprobs.keys())\n",
    "    prob_vs = list(lprobs.values())\n",
    "    \n",
    "    return prob_ks[np.argmax(prob_vs)]\n",
    "\n",
    "def predict(X_new, X_l, y_l):\n",
    "    if (len(X_new) == 1):\n",
    "        return predictor(X_new=X_new[0], X_l=X_l, y_l=y_l)\n",
    "    preds = [predictor(X_new=i, X_l=X_l, y_l=y_l) for i in X_new]\n",
    "    return preds"
   ]
  },
  {
   "cell_type": "code",
   "execution_count": 16,
   "id": "5a9e6582",
   "metadata": {
    "execution": {
     "iopub.execute_input": "2022-08-07T14:43:43.908685Z",
     "iopub.status.busy": "2022-08-07T14:43:43.907743Z",
     "iopub.status.idle": "2022-08-07T14:43:43.914054Z",
     "shell.execute_reply": "2022-08-07T14:43:43.912781Z"
    },
    "papermill": {
     "duration": 0.017345,
     "end_time": "2022-08-07T14:43:43.916837",
     "exception": false,
     "start_time": "2022-08-07T14:43:43.899492",
     "status": "completed"
    },
    "scrolled": true,
    "tags": []
   },
   "outputs": [
    {
     "name": "stdout",
     "output_type": "stream",
     "text": [
      "No\n"
     ]
    }
   ],
   "source": [
    "#Prediction for case 1\n",
    "prediction = predict(X_new=p1, X_l=X_l, y_l=y_l)\n",
    "print(prediction)"
   ]
  },
  {
   "cell_type": "code",
   "execution_count": 17,
   "id": "ca973e95",
   "metadata": {
    "execution": {
     "iopub.execute_input": "2022-08-07T14:43:43.933054Z",
     "iopub.status.busy": "2022-08-07T14:43:43.932649Z",
     "iopub.status.idle": "2022-08-07T14:43:43.938354Z",
     "shell.execute_reply": "2022-08-07T14:43:43.937148Z"
    },
    "papermill": {
     "duration": 0.016882,
     "end_time": "2022-08-07T14:43:43.941071",
     "exception": false,
     "start_time": "2022-08-07T14:43:43.924189",
     "status": "completed"
    },
    "tags": []
   },
   "outputs": [
    {
     "name": "stdout",
     "output_type": "stream",
     "text": [
      "['Yes', 'No', 'Yes']\n"
     ]
    }
   ],
   "source": [
    "#Predictions for case 2\n",
    "prediction = predict(X_new=p2, X_l=X_l, y_l=y_l)\n",
    "print(prediction)"
   ]
  },
  {
   "cell_type": "markdown",
   "id": "e919e6ff",
   "metadata": {
    "papermill": {
     "duration": 0.006784,
     "end_time": "2022-08-07T14:43:43.955668",
     "exception": false,
     "start_time": "2022-08-07T14:43:43.948884",
     "status": "completed"
    },
    "tags": []
   },
   "source": [
    "The End"
   ]
  }
 ],
 "metadata": {
  "kernelspec": {
   "display_name": "Python 3",
   "language": "python",
   "name": "python3"
  },
  "language_info": {
   "codemirror_mode": {
    "name": "ipython",
    "version": 3
   },
   "file_extension": ".py",
   "mimetype": "text/x-python",
   "name": "python",
   "nbconvert_exporter": "python",
   "pygments_lexer": "ipython3",
   "version": "3.7.12"
  },
  "papermill": {
   "default_parameters": {},
   "duration": 12.22798,
   "end_time": "2022-08-07T14:43:44.584717",
   "environment_variables": {},
   "exception": null,
   "input_path": "__notebook__.ipynb",
   "output_path": "__notebook__.ipynb",
   "parameters": {},
   "start_time": "2022-08-07T14:43:32.356737",
   "version": "2.3.4"
  }
 },
 "nbformat": 4,
 "nbformat_minor": 5
}
